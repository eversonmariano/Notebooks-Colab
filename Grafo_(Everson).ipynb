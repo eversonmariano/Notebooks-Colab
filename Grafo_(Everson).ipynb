{
  "nbformat": 4,
  "nbformat_minor": 0,
  "metadata": {
    "colab": {
      "name": "Grafo (Everson).ipynb",
      "provenance": [],
      "collapsed_sections": [
        "utNK7ubzwrEy"
      ],
      "authorship_tag": "ABX9TyOA1rzzAvU9aXwVuCrLBOXV",
      "include_colab_link": true
    },
    "kernelspec": {
      "name": "python3",
      "display_name": "Python 3"
    },
    "language_info": {
      "name": "python"
    }
  },
  "cells": [
    {
      "cell_type": "markdown",
      "metadata": {
        "id": "view-in-github",
        "colab_type": "text"
      },
      "source": [
        "<a href=\"https://colab.research.google.com/github/eversonmariano/Notebooks-Colab/blob/main/Grafo_(Everson).ipynb\" target=\"_parent\"><img src=\"https://colab.research.google.com/assets/colab-badge.svg\" alt=\"Open In Colab\"/></a>"
      ]
    },
    {
      "cell_type": "markdown",
      "metadata": {
        "id": "cJQqABF3tGhL"
      },
      "source": [
        "##Vertices"
      ]
    },
    {
      "cell_type": "code",
      "metadata": {
        "id": "H1pE7XGLJJI3"
      },
      "source": [
        "class Vertice:\n",
        "\n",
        "  def __init__(self, rotulo, distancia_objetivo):\n",
        "    self.rotulo = rotulo\n",
        "    self.visitado = False\n",
        "    self.distancia_objetivo = distancia_objetivo\n",
        "    self.adjacentes = []\n",
        "\n",
        "  #Faz as ligaçoes dos vertices\n",
        "  def adiciona_adjacente(self, adjacente):\n",
        "    self.adjacentes.append(adjacente)\n",
        "\n",
        "  def mostra_adjacentes(self):\n",
        "    for i in self.adjacentes:\n",
        "      print(i.vertice.rotulo, i.custo)"
      ],
      "execution_count": null,
      "outputs": []
    },
    {
      "cell_type": "code",
      "metadata": {
        "id": "1h3XOEzwLUcO"
      },
      "source": [
        "#Representa a ligaçao dos vertices(uma cidade a outra)\n",
        "class Adjacente:\n",
        "  def __init__(self, vertice, custo):\n",
        "    self.vertice = vertice\n",
        "    self.custo = custo"
      ],
      "execution_count": null,
      "outputs": []
    },
    {
      "cell_type": "markdown",
      "metadata": {
        "id": "QTFowjLptCEJ"
      },
      "source": [
        "##grafo - ARAD ATÉ BUCARESTE"
      ]
    },
    {
      "cell_type": "code",
      "metadata": {
        "id": "uCUx8zIiL9Cr"
      },
      "source": [
        "class Grafo:\n",
        "  arad = Vertice('Arad', 366) #(rotulo, distancia em linha reta Arad a Bucareste)\n",
        "  zerind = Vertice('Zerind', 374)\n",
        "  oradea = Vertice('Oradea', 380)\n",
        "  sibiu = Vertice('Sibiu', 253)\n",
        "  timisoara = Vertice('Timisoara', 329)\n",
        "  lugoj = Vertice('Lugoj', 244)\n",
        "  mehadia = Vertice('Mehadia', 241)\n",
        "  dobreta = Vertice('Dobreta', 242)\n",
        "  craiova = Vertice('Craiova', 160)\n",
        "  rimnicu = Vertice('Rimnicu', 193)\n",
        "  fagaras = Vertice('Fagaras', 178)\n",
        "  pitesti = Vertice('Pitesti', 98)\n",
        "  bucharest = Vertice('Bucharest', 0)\n",
        "  giurgiu = Vertice('Giurgiu', 77)\n",
        "\n",
        "  arad.adiciona_adjacente(Adjacente(zerind, 75))\n",
        "  arad.adiciona_adjacente(Adjacente(sibiu, 140))\n",
        "  arad.adiciona_adjacente(Adjacente(timisoara, 118))\n",
        "\n",
        "  zerind.adiciona_adjacente(Adjacente(arad, 75))\n",
        "  zerind.adiciona_adjacente(Adjacente(oradea, 71))\n",
        "\n",
        "  oradea.adiciona_adjacente(Adjacente(zerind, 71))\n",
        "  oradea.adiciona_adjacente(Adjacente(sibiu, 151))\n",
        "\n",
        "  sibiu.adiciona_adjacente(Adjacente(oradea, 151))\n",
        "  sibiu.adiciona_adjacente(Adjacente(arad, 140))\n",
        "  sibiu.adiciona_adjacente(Adjacente(fagaras, 99))\n",
        "  sibiu.adiciona_adjacente(Adjacente(rimnicu, 80))\n",
        "\n",
        "  timisoara.adiciona_adjacente(Adjacente(arad, 118))\n",
        "  timisoara.adiciona_adjacente(Adjacente(lugoj, 111))\n",
        "\n",
        "  lugoj.adiciona_adjacente(Adjacente(timisoara, 111))\n",
        "  lugoj.adiciona_adjacente(Adjacente(mehadia, 70))\n",
        "\n",
        "  mehadia.adiciona_adjacente(Adjacente(lugoj, 70))\n",
        "  mehadia.adiciona_adjacente(Adjacente(dobreta, 75))\n",
        "\n",
        "  dobreta.adiciona_adjacente(Adjacente(mehadia, 75))\n",
        "  dobreta.adiciona_adjacente(Adjacente(craiova, 120))\n",
        "\n",
        "  craiova.adiciona_adjacente(Adjacente(dobreta, 120))\n",
        "  craiova.adiciona_adjacente(Adjacente(pitesti, 138))\n",
        "  craiova.adiciona_adjacente(Adjacente(rimnicu, 146))\n",
        "\n",
        "  rimnicu.adiciona_adjacente(Adjacente(craiova, 146))\n",
        "  rimnicu.adiciona_adjacente(Adjacente(sibiu, 80))\n",
        "  rimnicu.adiciona_adjacente(Adjacente(pitesti, 97))\n",
        "\n",
        "  fagaras.adiciona_adjacente(Adjacente(sibiu, 99))\n",
        "  fagaras.adiciona_adjacente(Adjacente(bucharest, 211))\n",
        "\n",
        "  pitesti.adiciona_adjacente(Adjacente(rimnicu, 97))\n",
        "  pitesti.adiciona_adjacente(Adjacente(craiova, 138))\n",
        "  pitesti.adiciona_adjacente(Adjacente(bucharest, 101))\n",
        "\n",
        "  bucharest.adiciona_adjacente(Adjacente(fagaras, 211))\n",
        "  bucharest.adiciona_adjacente(Adjacente(pitesti, 101))\n",
        "  bucharest.adiciona_adjacente(Adjacente(giurgiu, 90))\n"
      ],
      "execution_count": null,
      "outputs": []
    },
    {
      "cell_type": "code",
      "metadata": {
        "id": "hG1oFtgyYqm5"
      },
      "source": [
        "grafo = Grafo()"
      ],
      "execution_count": null,
      "outputs": []
    },
    {
      "cell_type": "code",
      "metadata": {
        "id": "MwoVtdb-x27A",
        "colab": {
          "base_uri": "https://localhost:8080/"
        },
        "outputId": "ff652e72-c207-4590-e944-8466e547c447"
      },
      "source": [
        "grafo.arad.mostra_adjacentes()"
      ],
      "execution_count": null,
      "outputs": [
        {
          "output_type": "stream",
          "text": [
            "Zerind 75\n",
            "Sibiu 140\n",
            "Timisoara 118\n"
          ],
          "name": "stdout"
        }
      ]
    },
    {
      "cell_type": "markdown",
      "metadata": {
        "id": "utNK7ubzwrEy"
      },
      "source": [
        "## Vetor Ordenado\n"
      ]
    },
    {
      "cell_type": "markdown",
      "metadata": {
        "id": "6WHJBbSf6RqD"
      },
      "source": [
        "esses algoritmos mais avançadas se utilizam de outras estruturas de dados. Por exemplo:\n",
        "- A Busca em Profundidade utiliza uma Pilha;\n",
        "- A Busca em Largura utiliza um Fila;\n",
        "- E a Busca Gulosa utiliza um vetor ordenado.  "
      ]
    },
    {
      "cell_type": "code",
      "metadata": {
        "id": "bHnGlmCQLYoH"
      },
      "source": [
        "import numpy as np\n",
        "class VetorOrdenado:\n",
        "  \n",
        "  def __init__(self, capacidade):\n",
        "    self.capacidade = capacidade\n",
        "    self.ultima_posicao = -1\n",
        "    # Mudança no tipo de dados\n",
        "    self.valores = np.empty(self.capacidade, dtype=object)\n",
        "\n",
        "  # Referência para o vértice e comparação com a distância para o objetivo\n",
        "  def insere(self, vertice):\n",
        "    if self.ultima_posicao == self.capacidade - 1:\n",
        "      print('Capacidade máxima atingida')\n",
        "      return\n",
        "    posicao = 0\n",
        "    for i in range(self.ultima_posicao + 1):\n",
        "      posicao = i\n",
        "      if self.valores[i].distancia_objetivo > vertice.distancia_objetivo:\n",
        "        break\n",
        "      if i == self.ultima_posicao:\n",
        "        posicao = i + 1\n",
        "    x = self.ultima_posicao\n",
        "    while x >= posicao:\n",
        "      self.valores[x + 1] = self.valores[x]\n",
        "      x -= 1\n",
        "    self.valores[posicao] = vertice\n",
        "    self.ultima_posicao += 1\n",
        "\n",
        "  def imprime(self):\n",
        "    if self.ultima_posicao == -1:\n",
        "      print('O vetor está vazio')\n",
        "    else:\n",
        "      for i in range(self.ultima_posicao + 1):\n",
        "        print(i, ' - ', self.valores[i].rotulo, ' - ', self.valores[i].distancia_objetivo)  "
      ],
      "execution_count": null,
      "outputs": []
    },
    {
      "cell_type": "code",
      "metadata": {
        "id": "9Nbeyhte04If"
      },
      "source": [
        "vetor = VetorOrdenado(5)\n",
        "vetor.insere(grafo.arad)\n",
        "vetor.insere(grafo.craiova)\n",
        "vetor.insere(grafo.bucharest)\n",
        "vetor.insere(grafo.dobreta)"
      ],
      "execution_count": null,
      "outputs": []
    },
    {
      "cell_type": "code",
      "metadata": {
        "id": "yqJQ8_nzgV76",
        "colab": {
          "base_uri": "https://localhost:8080/"
        },
        "outputId": "84e25c8c-f5e7-4376-fae8-39a18be0d0e2"
      },
      "source": [
        "vetor.imprime()"
      ],
      "execution_count": null,
      "outputs": [
        {
          "output_type": "stream",
          "text": [
            "0  -  Bucharest  -  0\n",
            "1  -  Craiova  -  160\n",
            "2  -  Dobreta  -  242\n",
            "3  -  Arad  -  366\n"
          ],
          "name": "stdout"
        }
      ]
    },
    {
      "cell_type": "code",
      "metadata": {
        "colab": {
          "base_uri": "https://localhost:8080/"
        },
        "id": "89yyEb9p_o8_",
        "outputId": "7fc08c9a-e1a0-4292-8fc7-945dd83656a1"
      },
      "source": [
        "vetor.valores[0], vetor.valores[0].rotulo"
      ],
      "execution_count": null,
      "outputs": [
        {
          "output_type": "execute_result",
          "data": {
            "text/plain": [
              "(<__main__.Vertice at 0x7f6d4fc6cc90>, 'Bucharest')"
            ]
          },
          "metadata": {
            "tags": []
          },
          "execution_count": 13
        }
      ]
    },
    {
      "cell_type": "markdown",
      "metadata": {
        "id": "cI_MVF3S4_v7"
      },
      "source": [
        "##Busca Gulosa  "
      ]
    },
    {
      "cell_type": "code",
      "metadata": {
        "id": "_7cHcCOH5FVp"
      },
      "source": [
        "class Gulosa:\n",
        "  def __init__(self, objetivo):\n",
        "    self.objetivo = objetivo\n",
        "    self.econtrado = False\n",
        "\n",
        "  def buscar(self, atual):\n",
        "    print('-------')\n",
        "    print('Atual: {}'.format(atual.rotulo))\n",
        "    atual.visitado = True\n",
        "\n",
        "    if atual == self.objetivo:\n",
        "      self.encontrado = True\n",
        "    else:\n",
        "      vetor_ordenado = VetorOrdenado(len(atual.adjacentes))\n",
        "      for adjacente in atual.adjacentes:\n",
        "        if adjacente.vertice.visitado == False:\n",
        "          adjacente.vertice.visitado == True\n",
        "          vetor_ordenado.insere(adjacente.vertice)\n",
        "      vetor_ordenado.imprime()\n",
        "\n",
        "      if vetor_ordenado.valores[0] != None:\n",
        "        self.buscar(vetor_ordenado.valores[0])"
      ],
      "execution_count": null,
      "outputs": []
    },
    {
      "cell_type": "code",
      "metadata": {
        "colab": {
          "base_uri": "https://localhost:8080/"
        },
        "id": "Avzz77H7Bpcc",
        "outputId": "0dc89f72-e941-454b-ba41-70839fa45dc9"
      },
      "source": [
        "busca_gulosa = Gulosa(grafo.bucharest)\n",
        "busca_gulosa.buscar(grafo.arad)"
      ],
      "execution_count": null,
      "outputs": [
        {
          "output_type": "stream",
          "text": [
            "-------\n",
            "Atual: Arad\n",
            "0  -  Sibiu  -  253\n",
            "1  -  Timisoara  -  329\n",
            "2  -  Zerind  -  374\n",
            "-------\n",
            "Atual: Sibiu\n",
            "0  -  Fagaras  -  178\n",
            "1  -  Rimnicu  -  193\n",
            "2  -  Oradea  -  380\n",
            "-------\n",
            "Atual: Fagaras\n",
            "0  -  Bucharest  -  0\n",
            "-------\n",
            "Atual: Bucharest\n"
          ],
          "name": "stdout"
        }
      ]
    },
    {
      "cell_type": "markdown",
      "metadata": {
        "id": "j8YN5GmZE_yU"
      },
      "source": [
        "Caminho em linha reta abaixo:"
      ]
    },
    {
      "cell_type": "markdown",
      "metadata": {
        "id": "97Nd1OlGCK2I"
      },
      "source": [
        "![WhatsApp Image 2021-08-06 at 17.05.52.jpeg](data:image/jpeg;base64,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)"
      ]
    }
  ]
}